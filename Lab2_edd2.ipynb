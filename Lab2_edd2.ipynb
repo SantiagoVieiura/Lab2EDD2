{
  "nbformat": 4,
  "nbformat_minor": 0,
  "metadata": {
    "colab": {
      "provenance": [],
      "include_colab_link": true
    },
    "kernelspec": {
      "name": "python3",
      "display_name": "Python 3"
    },
    "language_info": {
      "name": "python"
    }
  },
  "cells": [
    {
      "cell_type": "markdown",
      "metadata": {
        "id": "view-in-github",
        "colab_type": "text"
      },
      "source": [
        "<a href=\"https://colab.research.google.com/github/SantiagoVieiura/Lab2EDD2/blob/main/Lab2_edd2.ipynb\" target=\"_parent\"><img src=\"https://colab.research.google.com/assets/colab-badge.svg\" alt=\"Open In Colab\"/></a>"
      ]
    },
    {
      "cell_type": "code",
      "execution_count": null,
      "metadata": {
        "id": "h9PObUU73DdU"
      },
      "outputs": [],
      "source": [
        "import pandas as pd\n",
        "\n",
        "def leerArchivo(nombre):\n",
        "  df = pd.read_csv(nombre)\n",
        "  return df"
      ]
    },
    {
      "cell_type": "markdown",
      "source": [
        "Creación del nodo\n"
      ],
      "metadata": {
        "id": "RoA3h1NCf7bB"
      }
    },
    {
      "cell_type": "code",
      "source": [
        "from graphviz import Digraph\n",
        "import csv\n",
        "\n",
        "class Nodo:\n",
        "    def __init__(self,code,SAname, SAcity, SAcountry, SAlatitude, SAlongitude ,DAcode,SAname, DAcity, DAcountry, DAlatitude, DAlongitude ):\n",
        "        self.code = code\n",
        "        self.SAname = SAname\n",
        "        self.SAcity = SAcity\n",
        "        self.SAcountry = SAcountry\n",
        "        self.SAlatitude = SAlatitude\n",
        "        self.SAlongitude = SAlongitude\n",
        "        self.DAcode = DAcode\n",
        "        self.DAname = DAname\n",
        "        self.DACity = DACity\n",
        "        self.DAcountry = DAcountry\n",
        "        self.DAlatitude = DAlatitude\n",
        "        self.DAlongitude = DAlongitude\n",
        "\n",
        "\n",
        "\n"
      ],
      "metadata": {
        "id": "Aqb9Sdzy4-sf"
      },
      "execution_count": null,
      "outputs": []
    },
    {
      "cell_type": "markdown",
      "source": [
        "Haversine formula :😡\n"
      ],
      "metadata": {
        "id": "PckzClPvfU1t"
      }
    },
    {
      "cell_type": "code",
      "source": [
        "import math\n",
        "\n",
        "def haversine(lat1, lon1, lat2, lon2):\n",
        "\n",
        "    lat1, lon1, lat2, lon2 = map(math.radians, [lat1, lon1, lat2, lon2])\n",
        "\n",
        "\n",
        "    dlat = lat2 - lat1\n",
        "    dlon = lon2 - lon1\n",
        "\n",
        "\n",
        "    a = math.sin(dlat/2)**2 + math.cos(lat1) * math.cos(lat2) * math.sin(dlon/2)**2\n",
        "    c = 2 * math.asin(math.sqrt(a))\n",
        "\n",
        "\n",
        "    R = 6371\n",
        "    distance = R * c\n",
        "\n",
        "    return distance"
      ],
      "metadata": {
        "id": "GYtdA4FAfTwo"
      },
      "execution_count": null,
      "outputs": []
    },
    {
      "cell_type": "markdown",
      "source": [
        "codigo para saber si el grafo es conexo 😏"
      ],
      "metadata": {
        "id": "NNDsfAoJo6Rv"
      }
    },
    {
      "cell_type": "code",
      "source": [
        "def is_connected(graph):\n",
        "    visited = set()\n",
        "\n",
        "    def dfs(node):\n",
        "        if node in visited:\n",
        "\n",
        "            return visited.add(node)\n",
        "\n",
        "        for neighbor in graph[node]:\n",
        "            dfs(neighbor)\n",
        "\n",
        "    # Start DFS from the first node\n",
        "    start_node = next(iter(graph))\n",
        "    dfs(start_node)\n",
        "\n",
        "    return len(visited) == len(graph)"
      ],
      "metadata": {
        "id": "7FCbgOoGo53O"
      },
      "execution_count": null,
      "outputs": []
    },
    {
      "cell_type": "markdown",
      "source": [
        "si entendi"
      ],
      "metadata": {
        "id": "YwPX1iRTy23h"
      }
    },
    {
      "cell_type": "code",
      "source": [],
      "metadata": {
        "id": "sz-NVc53y5lv"
      },
      "execution_count": 1,
      "outputs": []
    }
  ]
}